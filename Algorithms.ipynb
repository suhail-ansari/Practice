{
 "cells": [
  {
   "cell_type": "markdown",
   "metadata": {},
   "source": [
    "BFS"
   ]
  },
  {
   "cell_type": "code",
   "execution_count": 1,
   "metadata": {
    "collapsed": false
   },
   "outputs": [
    {
     "name": "stdout",
     "output_type": "stream",
     "text": [
      "4\n"
     ]
    }
   ],
   "source": [
    "def BFS(lst, el, i = 0):\n",
    "    left = 2*i + 1\n",
    "    right = 2*i + 2\n",
    "    \n",
    "    lsearch = False\n",
    "    rsearch = False\n",
    "    if el == lst[i]:\n",
    "        print i\n",
    "        return\n",
    "        \n",
    "    if left <  len(lst):\n",
    "        if el == lst[left]:\n",
    "            print left\n",
    "            return\n",
    "        else:\n",
    "            lsearch = True\n",
    "            \n",
    "    if right <  len(lst):\n",
    "        if el == lst[right]:\n",
    "            print right\n",
    "            return\n",
    "        else:\n",
    "            rsearch = True\n",
    "    \n",
    "    if lsearch:\n",
    "        BFS(lst, el, left)\n",
    "    \n",
    "    if rsearch:\n",
    "        BFS(lst, el, right)\n",
    "\n",
    "lst = [10, 12, 15, 25, 30, 26]            \n",
    "BFS(lst, 30)"
   ]
  },
  {
   "cell_type": "markdown",
   "metadata": {
    "collapsed": true
   },
   "source": [
    "Reverse Linked List"
   ]
  },
  {
   "cell_type": "code",
   "execution_count": 2,
   "metadata": {
    "collapsed": false
   },
   "outputs": [
    {
     "name": "stdout",
     "output_type": "stream",
     "text": [
      "1->2->3->4->5\n",
      "5->4->3->2->1\n"
     ]
    }
   ],
   "source": [
    "class Node:\n",
    "    def __init__(self, val):\n",
    "        self.val = val\n",
    "        self.next = None\n",
    "    \n",
    "    def insert(self, val):\n",
    "        if not self.next:\n",
    "            self.next = Node(val)\n",
    "            return self.next\n",
    "        else:\n",
    "            return self.next.insert(val)\n",
    "    \n",
    "    def __str__(self):\n",
    "        arr = []\n",
    "        head = self\n",
    "        while head:\n",
    "            arr.append(head.val)\n",
    "            head = head.next\n",
    "        return \"->\".join([str(x) for x in arr])\n",
    "\n",
    "def make_llist(arr):\n",
    "    head = Node(arr[0])\n",
    "    _head = head\n",
    "    for x in arr[1:]:\n",
    "        head = head.insert(x)\n",
    "    return _head\n",
    "\n",
    "def print_ll(head):\n",
    "    arr = []\n",
    "    while head:\n",
    "        arr.append(head.val)\n",
    "        head = head.next\n",
    "    print \"->\".join([str(x) for x in arr])\n",
    "\n",
    "print make_llist([1,2,3,4,5])\n",
    "\n",
    "def reverse_ll(head):\n",
    "    _next = head.next\n",
    "    head.next = None\n",
    "    look_ahead = _next.next\n",
    "\n",
    "    while True:\n",
    "        #print [head, _next, look_ahead]\n",
    "        _next.next = head\n",
    "        head = _next\n",
    "        _next = look_ahead\n",
    "        if _next:\n",
    "            look_ahead = _next.next\n",
    "        else:\n",
    "            break\n",
    "        \n",
    "    return head\n",
    "\n",
    "\n",
    "print reverse_ll(make_llist([1,2,3,4,5]))    \n"
   ]
  },
  {
   "cell_type": "markdown",
   "metadata": {},
   "source": [
    "Linked List To Stack"
   ]
  },
  {
   "cell_type": "code",
   "execution_count": null,
   "metadata": {
    "collapsed": true
   },
   "outputs": [],
   "source": [
    "class Node:\n",
    "    def __init__(self, val):\n",
    "        self.val = val\n",
    "        self.next = None\n",
    "    \n",
    "    def insert(self, val):\n",
    "        if not self.next:\n",
    "            self.next = Node(val)\n",
    "            return self.next\n",
    "        else:\n",
    "            return self.next.insert(val)            \n",
    "            \n",
    "    def __str__(self):\n",
    "        arr = []\n",
    "        head = self\n",
    "        while head:\n",
    "            arr.append(head.val)\n",
    "            head = head.next\n",
    "        return \"->\".join([str(x) for x in arr])\n",
    "    \n",
    "class LLStack:\n",
    "    def __init__(self, init_val):\n",
    "        if type(init_val) == list:\n",
    "            self.head = Node(init_val[0])\n",
    "            for i in init_val[1:]:\n",
    "                self.head.insert(i)\n",
    "        elif init_val != None:\n",
    "            self.head = Node(init_val)\n",
    "        else:\n",
    "            self.head = None\n",
    "            \n",
    "    def push(self, val):\n",
    "        if self.head:\n",
    "            new_node = Node(val)\n",
    "            new_node.next = self.head\n",
    "            self.head = new_node\n",
    "        else:\n",
    "            self.head = Node(val)\n",
    "            \n",
    "    def pop(self):\n",
    "        if self.head:\n",
    "            val = self.head.val\n",
    "            self.head = self.head.next\n",
    "            return val\n",
    "        else:\n",
    "            raise IndexError(\"pop from empty stack\")\n",
    "\n",
    "stack = LLStack([1,2,3])\n",
    "for i in range(0, 4):\n",
    "    print stack.pop()\n",
    "\n",
    "for i in range(0, 4):\n",
    "    print stack.push(i)\n",
    "\n",
    "for i in range(0, 4):\n",
    "    print stack.pop()\n",
    "            "
   ]
  },
  {
   "cell_type": "markdown",
   "metadata": {},
   "source": [
    "MRO"
   ]
  },
  {
   "cell_type": "code",
   "execution_count": 15,
   "metadata": {
    "collapsed": false
   },
   "outputs": [
    {
     "name": "stdout",
     "output_type": "stream",
     "text": [
      "Second Method:  Third\n",
      "First Method:  Fourth\n"
     ]
    }
   ],
   "source": [
    "class First(object):\n",
    "    def __init_(self):\n",
    "        pass\n",
    "    def a_method(self):\n",
    "        print 'First Method: ', self.__class__.__name__\n",
    "\n",
    "class Second(object):\n",
    "    def __init_(self):\n",
    "        pass\n",
    "    def a_method(self):\n",
    "        print 'Second Method: ', self.__class__.__name__\n",
    "\n",
    "class Third(Second, First):\n",
    "    def __init_(self, *args, **kwargs):\n",
    "        pass\n",
    "        \n",
    "class Fourth(First, Second):\n",
    "    def __init_(self, *args, **kwargs):\n",
    "        pass\n",
    "\n",
    "Third().a_method()\n",
    "Fourth().a_method()"
   ]
  },
  {
   "cell_type": "markdown",
   "metadata": {},
   "source": [
    "QuickSort"
   ]
  },
  {
   "cell_type": "code",
   "execution_count": 56,
   "metadata": {
    "collapsed": false
   },
   "outputs": [
    {
     "name": "stdout",
     "output_type": "stream",
     "text": [
      "[1, 2, 3, 4, 5, 6, 7, 8]\n"
     ]
    }
   ],
   "source": [
    "def quicksort(arr, start=None, end=None):\n",
    "    \n",
    "    if start == None and end == None:\n",
    "        start, end = 0, len(arr) - 1\n",
    "        \n",
    "    if start >= end:\n",
    "        return\n",
    "    \n",
    "    mid = partition(arr, start, end)\n",
    "    \n",
    "    if (mid - 1) > start:\n",
    "        quicksort(arr, start, mid - 1)\n",
    "    \n",
    "    if mid < end:\n",
    "        quicksort(arr, mid, end)\n",
    "    \n",
    "    return arr\n",
    "\n",
    "def partition(arr, start, end):\n",
    "    i, j = start, end\n",
    "    \n",
    "    mid  = (i + j)/2\n",
    "    \n",
    "    while j >= i:\n",
    "        while arr[i] < arr[mid]:\n",
    "            i += 1\n",
    "            \n",
    "        while arr[j] > arr[mid]:\n",
    "            j -= 1\n",
    "        \n",
    "        if i <= j:\n",
    "            arr[i], arr[j] = arr[j], arr[i]\n",
    "            i += 1\n",
    "            j -= 1\n",
    "            \n",
    "    return i\n",
    "\n",
    "print quicksort([8,7,6,5,4,3,2,1])"
   ]
  },
  {
   "cell_type": "markdown",
   "metadata": {},
   "source": [
    "Given an array of integers, find out three numbers that sums to 0."
   ]
  },
  {
   "cell_type": "code",
   "execution_count": 57,
   "metadata": {
    "collapsed": false,
    "scrolled": true
   },
   "outputs": [
    {
     "name": "stdout",
     "output_type": "stream",
     "text": [
      "[-3, 1, 2]\n"
     ]
    }
   ],
   "source": [
    "def get_zero_sum_nums(arr):\n",
    "    \n",
    "    arr = quicksort(arr) #O(nlog(n))\n",
    "    i, k = 0, len(arr) - 1\n",
    "    \n",
    "    for j in range(i + 1, k):\n",
    "        while j < k:\n",
    "            sum = reduce(lambda x, y: x + y, [arr[i], arr[j], arr[k]])\n",
    "\n",
    "            if sum > 0:\n",
    "                k -= 1\n",
    "            elif sum < 0:\n",
    "                i += 1\n",
    "            else:\n",
    "                return [arr[i], arr[j], arr[k]]\n",
    "\n",
    "print get_zero_sum_nums([1,2,-3,4, 4,2,1])        \n"
   ]
  },
  {
   "cell_type": "code",
   "execution_count": null,
   "metadata": {
    "collapsed": true
   },
   "outputs": [],
   "source": []
  }
 ],
 "metadata": {
  "kernelspec": {
   "display_name": "Python 2",
   "language": "python",
   "name": "python2"
  },
  "language_info": {
   "codemirror_mode": {
    "name": "ipython",
    "version": 2
   },
   "file_extension": ".py",
   "mimetype": "text/x-python",
   "name": "python",
   "nbconvert_exporter": "python",
   "pygments_lexer": "ipython2",
   "version": "2.7.12"
  }
 },
 "nbformat": 4,
 "nbformat_minor": 0
}
