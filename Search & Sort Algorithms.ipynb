{
 "cells": [
  {
   "cell_type": "markdown",
   "metadata": {},
   "source": [
    "# Binary Search"
   ]
  },
  {
   "cell_type": "code",
   "execution_count": 18,
   "metadata": {
    "collapsed": false,
    "scrolled": true
   },
   "outputs": [
    {
     "data": {
      "text/plain": [
       "-1"
      ]
     },
     "execution_count": 18,
     "metadata": {},
     "output_type": "execute_result"
    }
   ],
   "source": [
    "function binarySearch(el, arr, start, end){\n",
    "    if(start > end){\n",
    "        return -1\n",
    "    }\n",
    "    \n",
    "    var mid = parseInt((start + end)/2);\n",
    "    if(el > arr[mid]){\n",
    "        return binarySearch(el, arr, mid + 1, end);\n",
    "    } else if(el < arr[mid]){\n",
    "        return binarySearch(el, arr, start, mid - 1);\n",
    "    } else{\n",
    "        return mid;\n",
    "    }\n",
    "}\n",
    "\n",
    "binarySearch(3, [1, 2, 3, 4, 5, 6], 0, 5)\n",
    "binarySearch(-201, [1, 2, 3, 4, 5, 6], 0, 5)\n"
   ]
  },
  {
   "cell_type": "markdown",
   "metadata": {},
   "source": [
    "# Selection Sort"
   ]
  },
  {
   "cell_type": "code",
   "execution_count": 20,
   "metadata": {
    "collapsed": false
   },
   "outputs": [
    {
     "data": {
      "text/plain": [
       "[Array] [2,3,4,5,6,7,8,9]"
      ]
     },
     "execution_count": 20,
     "metadata": {},
     "output_type": "execute_result"
    }
   ],
   "source": [
    "function selectionSort(arr){\n",
    "    \n",
    "    function swap(x, y){\n",
    "        var temp = arr[x];\n",
    "        arr[x] = arr[y];\n",
    "        arr[y] = temp;\n",
    "    }\n",
    "    \n",
    "    function findMin(start){\n",
    "        var min = start;\n",
    "        for(var i = start; i < arr.length; i++){\n",
    "            if(arr[min] > arr[i]){\n",
    "                min = i;\n",
    "            }\n",
    "        }\n",
    "        return min;\n",
    "    }\n",
    "    \n",
    "    for(var i = 0; i < arr.length; i++){\n",
    "        var min = findMin(i);\n",
    "        if(arr[i] > arr[min]){\n",
    "            swap(i, min);\n",
    "        }\n",
    "    }\n",
    "    \n",
    "    return arr;\n",
    "}\n",
    "\n",
    "selectionSort([9, 8, 7, 6, 5, 4, 3, 2]);"
   ]
  },
  {
   "cell_type": "markdown",
   "metadata": {},
   "source": [
    "#Bubble Sort"
   ]
  },
  {
   "cell_type": "code",
   "execution_count": 23,
   "metadata": {
    "collapsed": false
   },
   "outputs": [
    {
     "data": {
      "text/plain": [
       "[Array] [2,3,4,5,6,7,8,9]"
      ]
     },
     "execution_count": 23,
     "metadata": {},
     "output_type": "execute_result"
    }
   ],
   "source": [
    "function bubbleSort(arr){\n",
    "    for(var i = 0; i < arr.length; i++){\n",
    "        for(var j = 0; j < (arr.length - i - 1); j++){\n",
    "            if(arr[j] > arr[j + 1]){\n",
    "                var temp = arr[j];\n",
    "                arr[j] = arr[j + 1];\n",
    "                arr[j + 1] = temp;\n",
    "            }\n",
    "        }\n",
    "    }\n",
    "    return arr;\n",
    "}\n",
    "\n",
    "bubbleSort([9, 8, 7, 6, 5, 4, 3, 2]);"
   ]
  },
  {
   "cell_type": "markdown",
   "metadata": {},
   "source": [
    "#Insertion Sort"
   ]
  },
  {
   "cell_type": "code",
   "execution_count": 26,
   "metadata": {
    "collapsed": false
   },
   "outputs": [
    {
     "data": {
      "text/plain": [
       "[Array] [2,3,4,5,6,7,8,9]"
      ]
     },
     "execution_count": 26,
     "metadata": {},
     "output_type": "execute_result"
    }
   ],
   "source": [
    "function insertionSort(arr){\n",
    "\n",
    "    for(var i = 0; i <  arr.length; i++){\n",
    "        var key = arr[i],\n",
    "            j = i - 1;\n",
    "        while(j >= 0 && key < arr[j]){\n",
    "            arr[j + 1] = arr[j];\n",
    "            j--;\n",
    "        }\n",
    "        arr[j + 1] = key;\n",
    "    }\n",
    "    \n",
    "    return arr;\n",
    "}\n",
    "\n",
    "insertionSort([9, 8, 7, 6, 5, 4, 3, 2]);"
   ]
  },
  {
   "cell_type": "markdown",
   "metadata": {},
   "source": [
    "#Quicksort"
   ]
  },
  {
   "cell_type": "code",
   "execution_count": 49,
   "metadata": {
    "collapsed": false
   },
   "outputs": [
    {
     "data": {
      "text/plain": [
       "[Array] [2,3,4,5,6,7,8,9]"
      ]
     },
     "execution_count": 49,
     "metadata": {},
     "output_type": "execute_result"
    }
   ],
   "source": [
    "function quickSort(arr, start, end){\n",
    "    \n",
    "    var mid = partition(arr, start, end);\n",
    "    \n",
    "    if(mid > start){\n",
    "        quickSort(arr, start, mid - 1);\n",
    "    }\n",
    "    if(mid < end){\n",
    "        quickSort(arr, mid + 1, end);\n",
    "    }\n",
    "    \n",
    "    return arr;\n",
    "}\n",
    "\n",
    "function swap(arr, x, y){\n",
    "    var temp = arr[x];\n",
    "    arr[x] = arr[y];\n",
    "    arr[y] = temp;\n",
    "}\n",
    "    \n",
    "function partition(arr, _start, _end){\n",
    "    var i = _start;\n",
    "    var j = _end;\n",
    "    var mid = parseInt((i + j)/2);\n",
    "    \n",
    "    while(j > i){\n",
    "        while(arr[i] < arr[mid]){\n",
    "            i++;\n",
    "        }\n",
    "        while(arr[j] > arr[mid]){\n",
    "            j--;\n",
    "        }\n",
    "        \n",
    "        if(arr[i] > arr[j]){\n",
    "            swap(arr, i, j);\n",
    "            i++;\n",
    "            j--;\n",
    "        }\n",
    "    }\n",
    "    return i;\n",
    "}\n",
    "\n",
    "quickSort([9, 8, 7, 6, 5, 4, 3, 2], 0 , 7);"
   ]
  },
  {
   "cell_type": "markdown",
   "metadata": {},
   "source": [
    "#Merge Sort"
   ]
  },
  {
   "cell_type": "code",
   "execution_count": 4,
   "metadata": {
    "collapsed": false
   },
   "outputs": [
    {
     "data": {
      "text/plain": [
       "[Array] [2,3,4,5,6,7,8,9]"
      ]
     },
     "execution_count": 4,
     "metadata": {},
     "output_type": "execute_result"
    }
   ],
   "source": [
    "function mergeSort(arr){\n",
    "    if(arr.length < 2){\n",
    "        return arr;\n",
    "    }\n",
    "    \n",
    "    var mid = parseInt(arr.length/2);\n",
    "    var left = arr.slice(0, mid);\n",
    "    var right = arr.slice(mid);\n",
    "    return merge(mergeSort(left), mergeSort(right));\n",
    "}\n",
    "\n",
    "function merge(l, r){\n",
    "    \n",
    "    var res = [],\n",
    "        ir = 0,\n",
    "        il = 0;\n",
    "    \n",
    "    while(il < l.length && ir < r.length){\n",
    "        if(l[il] > r[ir]){\n",
    "            res.push(r[ir++]);\n",
    "        }else{\n",
    "            res.push(l[il++]);\n",
    "        }\n",
    "    }\n",
    "    \n",
    "    return res.concat(l.slice(il)).concat(r.slice(ir));\n",
    "}\n",
    "\n",
    "mergeSort([9, 8, 7, 6, 5, 4, 3, 2]);"
   ]
  },
  {
   "cell_type": "markdown",
   "metadata": {},
   "source": [
    "#Heap(min)"
   ]
  },
  {
   "cell_type": "code",
   "execution_count": 36,
   "metadata": {
    "collapsed": false
   },
   "outputs": [
    {
     "data": {
      "text/plain": [
       "[Array] [1,2,3,4,5,6,7,8,9]"
      ]
     },
     "execution_count": 36,
     "metadata": {},
     "output_type": "execute_result"
    }
   ],
   "source": [
    "function swap(arr, x, y){\n",
    "    var temp = arr[x];\n",
    "    arr[x] = arr[y];\n",
    "    arr[y] = temp;\n",
    "}\n",
    "\n",
    "function heapSort(arr){\n",
    "    \n",
    "    var start = Math.floor((arr.length - 2)/2);\n",
    "    for(var i = start; i > -1; i--){\n",
    "        siftDown(arr, i, arr.length -1);\n",
    "    }\n",
    "    \n",
    "    var end = arr.length - 1;\n",
    "    for(var i = end; i > 0; i--){   \n",
    "        swap(arr, 0, i);\n",
    "        siftDown(arr, 0, i - 1);\n",
    "    }\n",
    "    \n",
    "    return arr;\n",
    "}\n",
    "\n",
    "function siftDown(arr, start, end){\n",
    "    var root = start;\n",
    "    while(true){\n",
    "        var child = root*2 + 1;\n",
    "        \n",
    "        if(child > end){\n",
    "            return;\n",
    "        }\n",
    "        \n",
    "        if(child + 1 <= end && arr[child] < arr[child + 1]){\n",
    "            ++child;\n",
    "        }\n",
    "        \n",
    "        if(arr[root] < arr[child]){\n",
    "            swap(arr, root, child);\n",
    "            root = child;\n",
    "        } else{\n",
    "            return;\n",
    "        }\n",
    "    }\n",
    "}\n",
    "\n",
    "heapSort([9,8,7,6,5,4,3,2,1]);"
   ]
  }
 ],
 "metadata": {
  "kernelspec": {
   "display_name": "NodeJS",
   "language": "javascript",
   "name": "nodejs"
  },
  "language_info": {
   "codemirror_mode": "javascript",
   "file_extension": "js",
   "mimetype": "text/javascript",
   "name": "nodejs",
   "pygments_lexer": "javascript",
   "version": "0.10"
  }
 },
 "nbformat": 4,
 "nbformat_minor": 0
}
